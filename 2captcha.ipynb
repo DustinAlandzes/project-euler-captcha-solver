{
 "cells": [
  {
   "cell_type": "code",
   "execution_count": 3,
   "metadata": {},
   "outputs": [
    {
     "name": "stdout",
     "output_type": "stream",
     "text": [
      "Requirement already satisfied: twocaptchaapi in ./venv/lib/python3.7/site-packages (0.3)\n",
      "Requirement already satisfied: requests>=2.9 in ./venv/lib/python3.7/site-packages (from twocaptchaapi) (2.22.0)\n",
      "Requirement already satisfied: certifi>=2017.4.17 in ./venv/lib/python3.7/site-packages (from requests>=2.9->twocaptchaapi) (2018.1.18)\n",
      "Requirement already satisfied: urllib3!=1.25.0,!=1.25.1,<1.26,>=1.21.1 in ./venv/lib/python3.7/site-packages (from requests>=2.9->twocaptchaapi) (1.25.3)\n",
      "Requirement already satisfied: idna<2.9,>=2.5 in ./venv/lib/python3.7/site-packages (from requests>=2.9->twocaptchaapi) (2.6)\n",
      "Requirement already satisfied: chardet<3.1.0,>=3.0.2 in ./venv/lib/python3.7/site-packages (from requests>=2.9->twocaptchaapi) (3.0.4)\n"
     ]
    }
   ],
   "source": [
    "!pip install twocaptchaapi"
   ]
  },
  {
   "cell_type": "code",
   "execution_count": 4,
   "metadata": {},
   "outputs": [],
   "source": [
    "from twocaptchaapi import TwoCaptchaApi\n",
    "api = TwoCaptchaApi('')"
   ]
  },
  {
   "cell_type": "code",
   "execution_count": 5,
   "metadata": {},
   "outputs": [
    {
     "data": {
      "text/plain": [
       "9.98804"
      ]
     },
     "execution_count": 5,
     "metadata": {},
     "output_type": "execute_result"
    }
   ],
   "source": [
    "api.get_balance()"
   ]
  },
  {
   "cell_type": "code",
   "execution_count": 17,
   "metadata": {},
   "outputs": [
    {
     "data": {
      "application/vnd.jupyter.widget-view+json": {
       "model_id": "7a5db129863049c18d112fe98ab74900",
       "version_major": 2,
       "version_minor": 0
      },
      "text/plain": [
       "Image(value=b'\\x89PNG\\r\\n\\x1a\\n\\x00\\x00\\x00\\rIHDR\\x00\\x00\\x00\\x88\\x00\\x00\\x00D\\x08\\x02\\x00\\x00\\x00\\xd5\\xf2\\xea…"
      ]
     },
     "metadata": {},
     "output_type": "display_data"
    }
   ],
   "source": [
    "from generate_training_data import get_captcha_image\n",
    "from ipywidgets import Image\n",
    "captcha_image_as_bytes = get_captcha_image()\n",
    "Image(value=captcha_image_as_bytes) "
   ]
  },
  {
   "cell_type": "code",
   "execution_count": 28,
   "metadata": {
    "scrolled": true
   },
   "outputs": [],
   "source": [
    "from io import BytesIO\n",
    "captcha = api.solve(BytesIO(captcha_image_as_bytes))\n",
    "answer = captcha.await_result()"
   ]
  },
  {
   "cell_type": "code",
   "execution_count": 29,
   "metadata": {},
   "outputs": [],
   "source": [
    "from hashlib import sha1"
   ]
  },
  {
   "cell_type": "code",
   "execution_count": 30,
   "metadata": {},
   "outputs": [],
   "source": [
    "file_name = f\"{sha1(captcha_image_as_bytes).hexdigest()}_{answer}.jpg\"\n",
    "with open(file_name, 'wb') as f:\n",
    "    f.write(captcha_image_as_bytes)"
   ]
  },
  {
   "cell_type": "code",
   "execution_count": null,
   "metadata": {},
   "outputs": [],
   "source": []
  }
 ],
 "metadata": {
  "kernelspec": {
   "display_name": "projecteuler_captcha",
   "language": "python",
   "name": "projecteuler_captcha"
  },
  "language_info": {
   "codemirror_mode": {
    "name": "ipython",
    "version": 3
   },
   "file_extension": ".py",
   "mimetype": "text/x-python",
   "name": "python",
   "nbconvert_exporter": "python",
   "pygments_lexer": "ipython3",
   "version": "3.7.4"
  }
 },
 "nbformat": 4,
 "nbformat_minor": 2
}
